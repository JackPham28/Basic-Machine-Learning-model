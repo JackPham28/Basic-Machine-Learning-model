{
  "nbformat": 4,
  "nbformat_minor": 0,
  "metadata": {
    "colab": {
      "provenance": [],
      "collapsed_sections": [
        "h6-h_kQd0kDi",
        "n6qvOVIqB8CM",
        "93gIoGKseDGT",
        "RkHLCLt3fhYj",
        "9KhAzAPi076s",
        "rhJJNWZAhMJH",
        "YoJgSwo9jcgf",
        "A3a_MZHHyqQ8",
        "s6KOByXOi-iX"
      ],
      "toc_visible": true
    },
    "kernelspec": {
      "name": "python3",
      "display_name": "Python 3"
    },
    "language_info": {
      "name": "python"
    }
  },
  "cells": [
    {
      "cell_type": "markdown",
      "source": [
        "## Bài 3.  Dự báo Heart Disease"
      ],
      "metadata": {
        "id": "vblYuZNfVbYT"
      }
    },
    {
      "cell_type": "markdown",
      "source": [
        "### I. IMPORT và hiệu chỉnh dữ liệu:"
      ],
      "metadata": {
        "id": "h6-h_kQd0kDi"
      }
    },
    {
      "cell_type": "code",
      "execution_count": null,
      "metadata": {
        "id": "8eBkX9WdVR3i"
      },
      "outputs": [],
      "source": [
        "import matplotlib.pyplot as plt\n",
        "from sklearn import datasets\n",
        "from sklearn import svm\n",
        "from sklearn.model_selection import train_test_split\n",
        "import numpy as np\n",
        "import pandas as pd\n",
        "import seaborn as sns\n",
        "from sklearn.metrics import classification_report"
      ]
    },
    {
      "cell_type": "code",
      "source": [
        "#Import data trực tiếp từ link (data info: https://www.kaggle.com/datasets/mathurinache/cholesterol)\n",
        "link='https://drive.google.com/file/d/1uv6IA63cXlvgOcvvVF6TAhY2HWZLZ8-v/view?usp=sharing'\n",
        "path = 'https://drive.google.com/uc?export=download&id='+link.split('/')[-2]\n",
        "dataset = pd.read_csv(path)"
      ],
      "metadata": {
        "id": "4dlGEXq9VeBE"
      },
      "execution_count": null,
      "outputs": []
    },
    {
      "cell_type": "markdown",
      "source": [
        "Chú ý về data set:\n",
        "\n",
        "Cột y dự báo là cột \"num\" mức độ nguy cơ mắc bênh tim (-> xây dựng bài toán dự báo phân loại)\n",
        "\n",
        "Tuy nhiên cột \"chol\" là dữ liệu liên tục có thể tận dụng để thực hành thêm cho các thuật toán hồi quy (có thể kết quả không tốt)"
      ],
      "metadata": {
        "id": "mnL8ywnNVjTR"
      }
    },
    {
      "cell_type": "code",
      "source": [
        "dataset.sample(20)"
      ],
      "metadata": {
        "id": "pkhDmH37Wj_P",
        "colab": {
          "base_uri": "https://localhost:8080/",
          "height": 676
        },
        "outputId": "c89d3918-f88f-48db-8a91-a3dd33b8346b"
      },
      "execution_count": null,
      "outputs": [
        {
          "output_type": "execute_result",
          "data": {
            "text/plain": [
              "     age  sex  cp  trestbps  fbs  restecg  thalach  exang  oldpeak  slope ca  \\\n",
              "91    62    0   4       160    0        2      145      0      6.2      3  3   \n",
              "225   34    0   2       118    0        0      192      0      0.7      1  0   \n",
              "122   51    1   3       100    0        0      143      1      1.2      2  0   \n",
              "66    60    1   3       140    0        2      155      0      3.0      2  0   \n",
              "214   52    1   4       112    0        0      160      0      0.0      1  1   \n",
              "20    64    1   1       110    0        2      144      1      1.8      2  0   \n",
              "186   42    1   3       120    1        0      194      0      0.8      3  0   \n",
              "71    67    1   4       125    1        0      163      0      0.2      2  2   \n",
              "167   54    0   2       132    1        2      159      1      0.0      1  1   \n",
              "200   50    0   4       110    0        2      159      0      0.0      1  0   \n",
              "296   59    1   4       164    1        2       90      0      1.0      2  2   \n",
              "105   54    1   2       108    0        0      156      0      0.0      1  0   \n",
              "49    53    1   3       130    1        2      152      0      1.2      3  0   \n",
              "102   57    0   4       128    0        2      159      0      0.0      1  1   \n",
              "68    59    1   4       170    0        2      140      1      3.4      3  0   \n",
              "213   66    0   4       178    1        0      165      1      1.0      2  2   \n",
              "238   49    0   2       134    0        0      162      0      0.0      2  0   \n",
              "73    65    1   4       110    0        2      158      0      0.6      1  2   \n",
              "63    54    0   3       135    1        0      170      0      0.0      1  0   \n",
              "138   35    1   4       120    0        0      130      1      1.6      2  0   \n",
              "\n",
              "    thal  num  chol  \n",
              "91     7    3   164  \n",
              "225    3    0   210  \n",
              "122    3    0   222  \n",
              "66     3    1   185  \n",
              "214    3    1   230  \n",
              "20     3    0   211  \n",
              "186    7    0   240  \n",
              "71     7    3   254  \n",
              "167    3    0   288  \n",
              "200    3    0   254  \n",
              "296    6    3   176  \n",
              "105    7    0   309  \n",
              "49     3    0   197  \n",
              "102    3    0   303  \n",
              "68     7    2   326  \n",
              "213    7    3   228  \n",
              "238    3    0   271  \n",
              "73     6    1   248  \n",
              "63     3    0   304  \n",
              "138    7    1   198  "
            ],
            "text/html": [
              "\n",
              "  <div id=\"df-f0e185b2-6a84-4f86-ac5c-0d423ace1034\">\n",
              "    <div class=\"colab-df-container\">\n",
              "      <div>\n",
              "<style scoped>\n",
              "    .dataframe tbody tr th:only-of-type {\n",
              "        vertical-align: middle;\n",
              "    }\n",
              "\n",
              "    .dataframe tbody tr th {\n",
              "        vertical-align: top;\n",
              "    }\n",
              "\n",
              "    .dataframe thead th {\n",
              "        text-align: right;\n",
              "    }\n",
              "</style>\n",
              "<table border=\"1\" class=\"dataframe\">\n",
              "  <thead>\n",
              "    <tr style=\"text-align: right;\">\n",
              "      <th></th>\n",
              "      <th>age</th>\n",
              "      <th>sex</th>\n",
              "      <th>cp</th>\n",
              "      <th>trestbps</th>\n",
              "      <th>fbs</th>\n",
              "      <th>restecg</th>\n",
              "      <th>thalach</th>\n",
              "      <th>exang</th>\n",
              "      <th>oldpeak</th>\n",
              "      <th>slope</th>\n",
              "      <th>ca</th>\n",
              "      <th>thal</th>\n",
              "      <th>num</th>\n",
              "      <th>chol</th>\n",
              "    </tr>\n",
              "  </thead>\n",
              "  <tbody>\n",
              "    <tr>\n",
              "      <th>91</th>\n",
              "      <td>62</td>\n",
              "      <td>0</td>\n",
              "      <td>4</td>\n",
              "      <td>160</td>\n",
              "      <td>0</td>\n",
              "      <td>2</td>\n",
              "      <td>145</td>\n",
              "      <td>0</td>\n",
              "      <td>6.2</td>\n",
              "      <td>3</td>\n",
              "      <td>3</td>\n",
              "      <td>7</td>\n",
              "      <td>3</td>\n",
              "      <td>164</td>\n",
              "    </tr>\n",
              "    <tr>\n",
              "      <th>225</th>\n",
              "      <td>34</td>\n",
              "      <td>0</td>\n",
              "      <td>2</td>\n",
              "      <td>118</td>\n",
              "      <td>0</td>\n",
              "      <td>0</td>\n",
              "      <td>192</td>\n",
              "      <td>0</td>\n",
              "      <td>0.7</td>\n",
              "      <td>1</td>\n",
              "      <td>0</td>\n",
              "      <td>3</td>\n",
              "      <td>0</td>\n",
              "      <td>210</td>\n",
              "    </tr>\n",
              "    <tr>\n",
              "      <th>122</th>\n",
              "      <td>51</td>\n",
              "      <td>1</td>\n",
              "      <td>3</td>\n",
              "      <td>100</td>\n",
              "      <td>0</td>\n",
              "      <td>0</td>\n",
              "      <td>143</td>\n",
              "      <td>1</td>\n",
              "      <td>1.2</td>\n",
              "      <td>2</td>\n",
              "      <td>0</td>\n",
              "      <td>3</td>\n",
              "      <td>0</td>\n",
              "      <td>222</td>\n",
              "    </tr>\n",
              "    <tr>\n",
              "      <th>66</th>\n",
              "      <td>60</td>\n",
              "      <td>1</td>\n",
              "      <td>3</td>\n",
              "      <td>140</td>\n",
              "      <td>0</td>\n",
              "      <td>2</td>\n",
              "      <td>155</td>\n",
              "      <td>0</td>\n",
              "      <td>3.0</td>\n",
              "      <td>2</td>\n",
              "      <td>0</td>\n",
              "      <td>3</td>\n",
              "      <td>1</td>\n",
              "      <td>185</td>\n",
              "    </tr>\n",
              "    <tr>\n",
              "      <th>214</th>\n",
              "      <td>52</td>\n",
              "      <td>1</td>\n",
              "      <td>4</td>\n",
              "      <td>112</td>\n",
              "      <td>0</td>\n",
              "      <td>0</td>\n",
              "      <td>160</td>\n",
              "      <td>0</td>\n",
              "      <td>0.0</td>\n",
              "      <td>1</td>\n",
              "      <td>1</td>\n",
              "      <td>3</td>\n",
              "      <td>1</td>\n",
              "      <td>230</td>\n",
              "    </tr>\n",
              "    <tr>\n",
              "      <th>20</th>\n",
              "      <td>64</td>\n",
              "      <td>1</td>\n",
              "      <td>1</td>\n",
              "      <td>110</td>\n",
              "      <td>0</td>\n",
              "      <td>2</td>\n",
              "      <td>144</td>\n",
              "      <td>1</td>\n",
              "      <td>1.8</td>\n",
              "      <td>2</td>\n",
              "      <td>0</td>\n",
              "      <td>3</td>\n",
              "      <td>0</td>\n",
              "      <td>211</td>\n",
              "    </tr>\n",
              "    <tr>\n",
              "      <th>186</th>\n",
              "      <td>42</td>\n",
              "      <td>1</td>\n",
              "      <td>3</td>\n",
              "      <td>120</td>\n",
              "      <td>1</td>\n",
              "      <td>0</td>\n",
              "      <td>194</td>\n",
              "      <td>0</td>\n",
              "      <td>0.8</td>\n",
              "      <td>3</td>\n",
              "      <td>0</td>\n",
              "      <td>7</td>\n",
              "      <td>0</td>\n",
              "      <td>240</td>\n",
              "    </tr>\n",
              "    <tr>\n",
              "      <th>71</th>\n",
              "      <td>67</td>\n",
              "      <td>1</td>\n",
              "      <td>4</td>\n",
              "      <td>125</td>\n",
              "      <td>1</td>\n",
              "      <td>0</td>\n",
              "      <td>163</td>\n",
              "      <td>0</td>\n",
              "      <td>0.2</td>\n",
              "      <td>2</td>\n",
              "      <td>2</td>\n",
              "      <td>7</td>\n",
              "      <td>3</td>\n",
              "      <td>254</td>\n",
              "    </tr>\n",
              "    <tr>\n",
              "      <th>167</th>\n",
              "      <td>54</td>\n",
              "      <td>0</td>\n",
              "      <td>2</td>\n",
              "      <td>132</td>\n",
              "      <td>1</td>\n",
              "      <td>2</td>\n",
              "      <td>159</td>\n",
              "      <td>1</td>\n",
              "      <td>0.0</td>\n",
              "      <td>1</td>\n",
              "      <td>1</td>\n",
              "      <td>3</td>\n",
              "      <td>0</td>\n",
              "      <td>288</td>\n",
              "    </tr>\n",
              "    <tr>\n",
              "      <th>200</th>\n",
              "      <td>50</td>\n",
              "      <td>0</td>\n",
              "      <td>4</td>\n",
              "      <td>110</td>\n",
              "      <td>0</td>\n",
              "      <td>2</td>\n",
              "      <td>159</td>\n",
              "      <td>0</td>\n",
              "      <td>0.0</td>\n",
              "      <td>1</td>\n",
              "      <td>0</td>\n",
              "      <td>3</td>\n",
              "      <td>0</td>\n",
              "      <td>254</td>\n",
              "    </tr>\n",
              "    <tr>\n",
              "      <th>296</th>\n",
              "      <td>59</td>\n",
              "      <td>1</td>\n",
              "      <td>4</td>\n",
              "      <td>164</td>\n",
              "      <td>1</td>\n",
              "      <td>2</td>\n",
              "      <td>90</td>\n",
              "      <td>0</td>\n",
              "      <td>1.0</td>\n",
              "      <td>2</td>\n",
              "      <td>2</td>\n",
              "      <td>6</td>\n",
              "      <td>3</td>\n",
              "      <td>176</td>\n",
              "    </tr>\n",
              "    <tr>\n",
              "      <th>105</th>\n",
              "      <td>54</td>\n",
              "      <td>1</td>\n",
              "      <td>2</td>\n",
              "      <td>108</td>\n",
              "      <td>0</td>\n",
              "      <td>0</td>\n",
              "      <td>156</td>\n",
              "      <td>0</td>\n",
              "      <td>0.0</td>\n",
              "      <td>1</td>\n",
              "      <td>0</td>\n",
              "      <td>7</td>\n",
              "      <td>0</td>\n",
              "      <td>309</td>\n",
              "    </tr>\n",
              "    <tr>\n",
              "      <th>49</th>\n",
              "      <td>53</td>\n",
              "      <td>1</td>\n",
              "      <td>3</td>\n",
              "      <td>130</td>\n",
              "      <td>1</td>\n",
              "      <td>2</td>\n",
              "      <td>152</td>\n",
              "      <td>0</td>\n",
              "      <td>1.2</td>\n",
              "      <td>3</td>\n",
              "      <td>0</td>\n",
              "      <td>3</td>\n",
              "      <td>0</td>\n",
              "      <td>197</td>\n",
              "    </tr>\n",
              "    <tr>\n",
              "      <th>102</th>\n",
              "      <td>57</td>\n",
              "      <td>0</td>\n",
              "      <td>4</td>\n",
              "      <td>128</td>\n",
              "      <td>0</td>\n",
              "      <td>2</td>\n",
              "      <td>159</td>\n",
              "      <td>0</td>\n",
              "      <td>0.0</td>\n",
              "      <td>1</td>\n",
              "      <td>1</td>\n",
              "      <td>3</td>\n",
              "      <td>0</td>\n",
              "      <td>303</td>\n",
              "    </tr>\n",
              "    <tr>\n",
              "      <th>68</th>\n",
              "      <td>59</td>\n",
              "      <td>1</td>\n",
              "      <td>4</td>\n",
              "      <td>170</td>\n",
              "      <td>0</td>\n",
              "      <td>2</td>\n",
              "      <td>140</td>\n",
              "      <td>1</td>\n",
              "      <td>3.4</td>\n",
              "      <td>3</td>\n",
              "      <td>0</td>\n",
              "      <td>7</td>\n",
              "      <td>2</td>\n",
              "      <td>326</td>\n",
              "    </tr>\n",
              "    <tr>\n",
              "      <th>213</th>\n",
              "      <td>66</td>\n",
              "      <td>0</td>\n",
              "      <td>4</td>\n",
              "      <td>178</td>\n",
              "      <td>1</td>\n",
              "      <td>0</td>\n",
              "      <td>165</td>\n",
              "      <td>1</td>\n",
              "      <td>1.0</td>\n",
              "      <td>2</td>\n",
              "      <td>2</td>\n",
              "      <td>7</td>\n",
              "      <td>3</td>\n",
              "      <td>228</td>\n",
              "    </tr>\n",
              "    <tr>\n",
              "      <th>238</th>\n",
              "      <td>49</td>\n",
              "      <td>0</td>\n",
              "      <td>2</td>\n",
              "      <td>134</td>\n",
              "      <td>0</td>\n",
              "      <td>0</td>\n",
              "      <td>162</td>\n",
              "      <td>0</td>\n",
              "      <td>0.0</td>\n",
              "      <td>2</td>\n",
              "      <td>0</td>\n",
              "      <td>3</td>\n",
              "      <td>0</td>\n",
              "      <td>271</td>\n",
              "    </tr>\n",
              "    <tr>\n",
              "      <th>73</th>\n",
              "      <td>65</td>\n",
              "      <td>1</td>\n",
              "      <td>4</td>\n",
              "      <td>110</td>\n",
              "      <td>0</td>\n",
              "      <td>2</td>\n",
              "      <td>158</td>\n",
              "      <td>0</td>\n",
              "      <td>0.6</td>\n",
              "      <td>1</td>\n",
              "      <td>2</td>\n",
              "      <td>6</td>\n",
              "      <td>1</td>\n",
              "      <td>248</td>\n",
              "    </tr>\n",
              "    <tr>\n",
              "      <th>63</th>\n",
              "      <td>54</td>\n",
              "      <td>0</td>\n",
              "      <td>3</td>\n",
              "      <td>135</td>\n",
              "      <td>1</td>\n",
              "      <td>0</td>\n",
              "      <td>170</td>\n",
              "      <td>0</td>\n",
              "      <td>0.0</td>\n",
              "      <td>1</td>\n",
              "      <td>0</td>\n",
              "      <td>3</td>\n",
              "      <td>0</td>\n",
              "      <td>304</td>\n",
              "    </tr>\n",
              "    <tr>\n",
              "      <th>138</th>\n",
              "      <td>35</td>\n",
              "      <td>1</td>\n",
              "      <td>4</td>\n",
              "      <td>120</td>\n",
              "      <td>0</td>\n",
              "      <td>0</td>\n",
              "      <td>130</td>\n",
              "      <td>1</td>\n",
              "      <td>1.6</td>\n",
              "      <td>2</td>\n",
              "      <td>0</td>\n",
              "      <td>7</td>\n",
              "      <td>1</td>\n",
              "      <td>198</td>\n",
              "    </tr>\n",
              "  </tbody>\n",
              "</table>\n",
              "</div>\n",
              "      <button class=\"colab-df-convert\" onclick=\"convertToInteractive('df-f0e185b2-6a84-4f86-ac5c-0d423ace1034')\"\n",
              "              title=\"Convert this dataframe to an interactive table.\"\n",
              "              style=\"display:none;\">\n",
              "        \n",
              "  <svg xmlns=\"http://www.w3.org/2000/svg\" height=\"24px\"viewBox=\"0 0 24 24\"\n",
              "       width=\"24px\">\n",
              "    <path d=\"M0 0h24v24H0V0z\" fill=\"none\"/>\n",
              "    <path d=\"M18.56 5.44l.94 2.06.94-2.06 2.06-.94-2.06-.94-.94-2.06-.94 2.06-2.06.94zm-11 1L8.5 8.5l.94-2.06 2.06-.94-2.06-.94L8.5 2.5l-.94 2.06-2.06.94zm10 10l.94 2.06.94-2.06 2.06-.94-2.06-.94-.94-2.06-.94 2.06-2.06.94z\"/><path d=\"M17.41 7.96l-1.37-1.37c-.4-.4-.92-.59-1.43-.59-.52 0-1.04.2-1.43.59L10.3 9.45l-7.72 7.72c-.78.78-.78 2.05 0 2.83L4 21.41c.39.39.9.59 1.41.59.51 0 1.02-.2 1.41-.59l7.78-7.78 2.81-2.81c.8-.78.8-2.07 0-2.86zM5.41 20L4 18.59l7.72-7.72 1.47 1.35L5.41 20z\"/>\n",
              "  </svg>\n",
              "      </button>\n",
              "      \n",
              "  <style>\n",
              "    .colab-df-container {\n",
              "      display:flex;\n",
              "      flex-wrap:wrap;\n",
              "      gap: 12px;\n",
              "    }\n",
              "\n",
              "    .colab-df-convert {\n",
              "      background-color: #E8F0FE;\n",
              "      border: none;\n",
              "      border-radius: 50%;\n",
              "      cursor: pointer;\n",
              "      display: none;\n",
              "      fill: #1967D2;\n",
              "      height: 32px;\n",
              "      padding: 0 0 0 0;\n",
              "      width: 32px;\n",
              "    }\n",
              "\n",
              "    .colab-df-convert:hover {\n",
              "      background-color: #E2EBFA;\n",
              "      box-shadow: 0px 1px 2px rgba(60, 64, 67, 0.3), 0px 1px 3px 1px rgba(60, 64, 67, 0.15);\n",
              "      fill: #174EA6;\n",
              "    }\n",
              "\n",
              "    [theme=dark] .colab-df-convert {\n",
              "      background-color: #3B4455;\n",
              "      fill: #D2E3FC;\n",
              "    }\n",
              "\n",
              "    [theme=dark] .colab-df-convert:hover {\n",
              "      background-color: #434B5C;\n",
              "      box-shadow: 0px 1px 3px 1px rgba(0, 0, 0, 0.15);\n",
              "      filter: drop-shadow(0px 1px 2px rgba(0, 0, 0, 0.3));\n",
              "      fill: #FFFFFF;\n",
              "    }\n",
              "  </style>\n",
              "\n",
              "      <script>\n",
              "        const buttonEl =\n",
              "          document.querySelector('#df-f0e185b2-6a84-4f86-ac5c-0d423ace1034 button.colab-df-convert');\n",
              "        buttonEl.style.display =\n",
              "          google.colab.kernel.accessAllowed ? 'block' : 'none';\n",
              "\n",
              "        async function convertToInteractive(key) {\n",
              "          const element = document.querySelector('#df-f0e185b2-6a84-4f86-ac5c-0d423ace1034');\n",
              "          const dataTable =\n",
              "            await google.colab.kernel.invokeFunction('convertToInteractive',\n",
              "                                                     [key], {});\n",
              "          if (!dataTable) return;\n",
              "\n",
              "          const docLinkHtml = 'Like what you see? Visit the ' +\n",
              "            '<a target=\"_blank\" href=https://colab.research.google.com/notebooks/data_table.ipynb>data table notebook</a>'\n",
              "            + ' to learn more about interactive tables.';\n",
              "          element.innerHTML = '';\n",
              "          dataTable['output_type'] = 'display_data';\n",
              "          await google.colab.output.renderOutput(dataTable, element);\n",
              "          const docLink = document.createElement('div');\n",
              "          docLink.innerHTML = docLinkHtml;\n",
              "          element.appendChild(docLink);\n",
              "        }\n",
              "      </script>\n",
              "    </div>\n",
              "  </div>\n",
              "  "
            ]
          },
          "metadata": {},
          "execution_count": 142
        }
      ]
    },
    {
      "cell_type": "code",
      "source": [
        "dataset.info()"
      ],
      "metadata": {
        "id": "M-zVa6meqp-r",
        "colab": {
          "base_uri": "https://localhost:8080/"
        },
        "outputId": "6e9bb145-3a75-49cb-e469-4e6ce7e137e4"
      },
      "execution_count": null,
      "outputs": [
        {
          "output_type": "stream",
          "name": "stdout",
          "text": [
            "<class 'pandas.core.frame.DataFrame'>\n",
            "RangeIndex: 303 entries, 0 to 302\n",
            "Data columns (total 14 columns):\n",
            " #   Column    Non-Null Count  Dtype  \n",
            "---  ------    --------------  -----  \n",
            " 0   age       303 non-null    int64  \n",
            " 1   sex       303 non-null    int64  \n",
            " 2   cp        303 non-null    int64  \n",
            " 3   trestbps  303 non-null    int64  \n",
            " 4   fbs       303 non-null    int64  \n",
            " 5   restecg   303 non-null    int64  \n",
            " 6   thalach   303 non-null    int64  \n",
            " 7   exang     303 non-null    int64  \n",
            " 8   oldpeak   303 non-null    float64\n",
            " 9   slope     303 non-null    int64  \n",
            " 10  ca        303 non-null    object \n",
            " 11  thal      303 non-null    object \n",
            " 12  num       303 non-null    int64  \n",
            " 13  chol      303 non-null    int64  \n",
            "dtypes: float64(1), int64(11), object(2)\n",
            "memory usage: 33.3+ KB\n"
          ]
        }
      ]
    },
    {
      "cell_type": "markdown",
      "source": [
        "```\n",
        "'ca' và 'thal' có kiểu dữ liệu là object cần chuyển đổi để thành kiểu int\n",
        "```"
      ],
      "metadata": {
        "id": "OUJ5gqLFtclS"
      }
    },
    {
      "cell_type": "code",
      "source": [
        "for i in dataset.columns:\n",
        "  unique_values = dataset[i].unique()\n",
        "  unique_values.sort()\n",
        "  print(i)\n",
        "  print(unique_values)\n",
        "  print('------------')"
      ],
      "metadata": {
        "id": "8lWXaW44Y2Tm",
        "colab": {
          "base_uri": "https://localhost:8080/"
        },
        "outputId": "17f9f06c-6b8d-4cac-8607-5f5c96dd643b"
      },
      "execution_count": null,
      "outputs": [
        {
          "output_type": "stream",
          "name": "stdout",
          "text": [
            "age\n",
            "[29 34 35 37 38 39 40 41 42 43 44 45 46 47 48 49 50 51 52 53 54 55 56 57\n",
            " 58 59 60 61 62 63 64 65 66 67 68 69 70 71 74 76 77]\n",
            "------------\n",
            "sex\n",
            "[0 1]\n",
            "------------\n",
            "cp\n",
            "[1 2 3 4]\n",
            "------------\n",
            "trestbps\n",
            "[ 94 100 101 102 104 105 106 108 110 112 114 115 117 118 120 122 123 124\n",
            " 125 126 128 129 130 132 134 135 136 138 140 142 144 145 146 148 150 152\n",
            " 154 155 156 158 160 164 165 170 172 174 178 180 192 200]\n",
            "------------\n",
            "fbs\n",
            "[0 1]\n",
            "------------\n",
            "restecg\n",
            "[0 1 2]\n",
            "------------\n",
            "thalach\n",
            "[ 71  88  90  95  96  97  99 103 105 106 108 109 111 112 113 114 115 116\n",
            " 117 118 120 121 122 123 124 125 126 127 128 129 130 131 132 133 134 136\n",
            " 137 138 139 140 141 142 143 144 145 146 147 148 149 150 151 152 153 154\n",
            " 155 156 157 158 159 160 161 162 163 164 165 166 167 168 169 170 171 172\n",
            " 173 174 175 177 178 179 180 181 182 184 185 186 187 188 190 192 194 195\n",
            " 202]\n",
            "------------\n",
            "exang\n",
            "[0 1]\n",
            "------------\n",
            "oldpeak\n",
            "[0.  0.1 0.2 0.3 0.4 0.5 0.6 0.7 0.8 0.9 1.  1.1 1.2 1.3 1.4 1.5 1.6 1.8\n",
            " 1.9 2.  2.1 2.2 2.3 2.4 2.5 2.6 2.8 2.9 3.  3.1 3.2 3.4 3.5 3.6 3.8 4.\n",
            " 4.2 4.4 5.6 6.2]\n",
            "------------\n",
            "slope\n",
            "[1 2 3]\n",
            "------------\n",
            "ca\n",
            "['0' '1' '2' '3' '?']\n",
            "------------\n",
            "thal\n",
            "['3' '6' '7' '?']\n",
            "------------\n",
            "num\n",
            "[0 1 2 3 4]\n",
            "------------\n",
            "chol\n",
            "[126 131 141 149 157 160 164 166 167 168 169 172 174 175 176 177 178 180\n",
            " 182 183 184 185 186 187 188 192 193 195 196 197 198 199 200 201 203 204\n",
            " 205 206 207 208 209 210 211 212 213 214 215 216 217 218 219 220 221 222\n",
            " 223 224 225 226 227 228 229 230 231 232 233 234 235 236 237 239 240 241\n",
            " 242 243 244 245 246 247 248 249 250 252 253 254 255 256 257 258 259 260\n",
            " 261 262 263 264 265 266 267 268 269 270 271 273 274 275 276 277 278 281\n",
            " 282 283 284 286 288 289 290 293 294 295 298 299 300 302 303 304 305 306\n",
            " 307 308 309 311 313 315 318 319 321 322 325 326 327 330 335 340 341 342\n",
            " 353 354 360 394 407 409 417 564]\n",
            "------------\n"
          ]
        }
      ]
    },
    {
      "cell_type": "code",
      "source": [
        "dataset[(dataset['ca']=='?') | (dataset['thal']=='?')].shape"
      ],
      "metadata": {
        "colab": {
          "base_uri": "https://localhost:8080/"
        },
        "id": "x2EFCUC8t5yh",
        "outputId": "faeb7339-0da0-4359-e9ab-b3023b10a968"
      },
      "execution_count": null,
      "outputs": [
        {
          "output_type": "execute_result",
          "data": {
            "text/plain": [
              "(6, 14)"
            ]
          },
          "metadata": {},
          "execution_count": 145
        }
      ]
    },
    {
      "cell_type": "code",
      "source": [
        "dataset.ca.dtypes"
      ],
      "metadata": {
        "colab": {
          "base_uri": "https://localhost:8080/"
        },
        "id": "GThc1ajXrtlL",
        "outputId": "2da6c4e5-0f5f-45ac-fc0b-546965220201"
      },
      "execution_count": null,
      "outputs": [
        {
          "output_type": "execute_result",
          "data": {
            "text/plain": [
              "dtype('O')"
            ]
          },
          "metadata": {},
          "execution_count": 146
        }
      ]
    },
    {
      "cell_type": "markdown",
      "source": [
        "\n",
        "\n",
        "```\n",
        "#Trong cột 'ca' và 'thal' có giá trị '?' là Null ta loại bỏ  cái trị này vì chỉ có 6 hàng có giá trị này.\n",
        "```\n",
        "\n"
      ],
      "metadata": {
        "id": "zaW3PhGTttb8"
      }
    },
    {
      "cell_type": "code",
      "source": [
        "dataset = dataset.drop(dataset[(dataset['ca']=='?') | (dataset['thal']=='?')].index)\n",
        "dataset[['ca','thal']] = dataset[['ca','thal']].astype(int)"
      ],
      "metadata": {
        "id": "F9_wR1WRqwbG"
      },
      "execution_count": null,
      "outputs": []
    },
    {
      "cell_type": "code",
      "source": [
        "var_score = pd.DataFrame(dataset.corr().loc['num'].drop('num',axis = 0))\n",
        "var_score.rename(columns = {'num':'corr_score'}, inplace = True)"
      ],
      "metadata": {
        "id": "BKRGNxdnJe6o"
      },
      "execution_count": null,
      "outputs": []
    },
    {
      "cell_type": "code",
      "source": [
        "X = dataset.drop(['num'],axis = 1)\n",
        "y = dataset.num"
      ],
      "metadata": {
        "id": "ssInwBrLZWXv"
      },
      "execution_count": null,
      "outputs": []
    },
    {
      "cell_type": "code",
      "source": [
        "from sklearn.preprocessing import StandardScaler\n",
        "X.iloc[:,[0,3,6,12]] = StandardScaler().fit_transform(X.iloc[:,[0,3,6,12]])"
      ],
      "metadata": {
        "id": "FDZ7wdb63_Tn"
      },
      "execution_count": null,
      "outputs": []
    },
    {
      "cell_type": "code",
      "source": [
        "y.value_counts()"
      ],
      "metadata": {
        "id": "kg20J5AJrGX3"
      },
      "execution_count": null,
      "outputs": []
    },
    {
      "cell_type": "markdown",
      "source": [
        "```\n",
        "Như đề bài đã yêu cầu đây là bài toán phân loại do vậy ta xem xét các mô hình học máy cho bài toán phân loại.\n",
        "Theo phân tích ở trên ta thấy output y có 5 giá trị [0,1,2,3,4] dữ liệu mất cân bằng ở cái giá trị  và việc dự đoán các giá trị\n",
        "có ưu tiên như nhau do đó đánh giá mô hình có thể dụa vào \"độ chính xác chung\".\n",
        "```\n",
        "\n",
        "\n"
      ],
      "metadata": {
        "id": "4t6Dk_OOaQpq"
      }
    },
    {
      "cell_type": "markdown",
      "source": [
        "#### Xử lý mất cần bằng cho tập train đẻ đảm bảo tính chính xác của dữ liệu"
      ],
      "metadata": {
        "id": "M_k_EbnJrUMp"
      }
    },
    {
      "cell_type": "code",
      "source": [
        "from sklearn.model_selection import train_test_split\n",
        "X_train, X_test, y_train, y_test = train_test_split(X,y,test_size = 0.2, random_state= 1)"
      ],
      "metadata": {
        "id": "7ymYqwzdbXiC"
      },
      "execution_count": null,
      "outputs": []
    },
    {
      "cell_type": "markdown",
      "source": [
        "```\n",
        "#Dùng over_sampling hay under_sampling để xử lý vấn đề mất cân bằng dữ liệu\n",
        "```"
      ],
      "metadata": {
        "id": "N4R9SOel1FDP"
      }
    },
    {
      "cell_type": "code",
      "source": [
        "from imblearn.over_sampling import SMOTE\n",
        "X_train, y_train = SMOTE().fit_resample(X_train,y_train)"
      ],
      "metadata": {
        "id": "UboN35ObupBU"
      },
      "execution_count": null,
      "outputs": []
    },
    {
      "cell_type": "markdown",
      "source": [],
      "metadata": {
        "id": "gxgIeSInrc4R"
      }
    },
    {
      "cell_type": "code",
      "source": [
        "y_train.value_counts()"
      ],
      "metadata": {
        "id": "BjHxChOy2UUK",
        "outputId": "00c1f857-0166-4dcb-bc93-6b98811f8e83",
        "colab": {
          "base_uri": "https://localhost:8080/"
        }
      },
      "execution_count": null,
      "outputs": [
        {
          "output_type": "execute_result",
          "data": {
            "text/plain": [
              "0    130\n",
              "2    130\n",
              "3    130\n",
              "1    130\n",
              "4    130\n",
              "Name: num, dtype: int64"
            ]
          },
          "metadata": {},
          "execution_count": 154
        }
      ]
    },
    {
      "cell_type": "markdown",
      "source": [
        "\n",
        "### II. CHỌN BIẾN CHO MÔ HÌNH"
      ],
      "metadata": {
        "id": "n6qvOVIqB8CM"
      }
    },
    {
      "cell_type": "code",
      "source": [
        "import seaborn as sns\n",
        "plt.figure(figsize=(20,15))\n",
        "sns.heatmap(dataset.corr(),annot=True, cmap = 'coolwarm')"
      ],
      "metadata": {
        "id": "3lNmEKWkrA0b"
      },
      "execution_count": null,
      "outputs": []
    },
    {
      "cell_type": "code",
      "source": [
        "from sklearn.naive_bayes import GaussianNB\n",
        "for i in range(1,(X_train.shape[1]+1)):\n",
        "  print(X_train.iloc[:,0:i].columns)\n",
        "  model = GaussianNB().fit(X_train.iloc[:,0:i],y_train)\n",
        "  print(model.score(X_test.iloc[:,0:i],y_test))\n",
        "#Thử độ chính xác của mô hình khi cho từng biến vào mô hình."
      ],
      "metadata": {
        "id": "DmHycIcomICO",
        "colab": {
          "base_uri": "https://localhost:8080/"
        },
        "outputId": "50ec1b69-3228-446e-d297-1a18ecb7f65c"
      },
      "execution_count": null,
      "outputs": [
        {
          "output_type": "stream",
          "name": "stdout",
          "text": [
            "Index(['age'], dtype='object')\n",
            "0.3\n",
            "Index(['age', 'sex'], dtype='object')\n",
            "0.3\n",
            "Index(['age', 'sex', 'cp'], dtype='object')\n",
            "0.36666666666666664\n",
            "Index(['age', 'sex', 'cp', 'trestbps'], dtype='object')\n",
            "0.35\n",
            "Index(['age', 'sex', 'cp', 'trestbps', 'fbs'], dtype='object')\n",
            "0.21666666666666667\n",
            "Index(['age', 'sex', 'cp', 'trestbps', 'fbs', 'restecg'], dtype='object')\n",
            "0.21666666666666667\n",
            "Index(['age', 'sex', 'cp', 'trestbps', 'fbs', 'restecg', 'thalach'], dtype='object')\n",
            "0.23333333333333334\n",
            "Index(['age', 'sex', 'cp', 'trestbps', 'fbs', 'restecg', 'thalach', 'exang'], dtype='object')\n",
            "0.2833333333333333\n",
            "Index(['age', 'sex', 'cp', 'trestbps', 'fbs', 'restecg', 'thalach', 'exang',\n",
            "       'oldpeak'],\n",
            "      dtype='object')\n",
            "0.3333333333333333\n",
            "Index(['age', 'sex', 'cp', 'trestbps', 'fbs', 'restecg', 'thalach', 'exang',\n",
            "       'oldpeak', 'slope'],\n",
            "      dtype='object')\n",
            "0.35\n",
            "Index(['age', 'sex', 'cp', 'trestbps', 'fbs', 'restecg', 'thalach', 'exang',\n",
            "       'oldpeak', 'slope', 'ca'],\n",
            "      dtype='object')\n",
            "0.36666666666666664\n",
            "Index(['age', 'sex', 'cp', 'trestbps', 'fbs', 'restecg', 'thalach', 'exang',\n",
            "       'oldpeak', 'slope', 'ca', 'thal'],\n",
            "      dtype='object')\n",
            "0.43333333333333335\n",
            "Index(['age', 'sex', 'cp', 'trestbps', 'fbs', 'restecg', 'thalach', 'exang',\n",
            "       'oldpeak', 'slope', 'ca', 'thal', 'chol'],\n",
            "      dtype='object')\n",
            "0.48333333333333334\n"
          ]
        }
      ]
    },
    {
      "cell_type": "code",
      "source": [
        "var_score_1 = []\n",
        "from sklearn.naive_bayes import GaussianNB\n",
        "for i in range(0,X_train.shape[1]):\n",
        "  model = GaussianNB().fit(X_train.iloc[:,[i]],y_train)\n",
        "  #print(model.score(X_test.iloc[:,[i]],y_test))\n",
        "  var_score_1.append(model.score(X_test.iloc[:,[i]],y_test))\n",
        "var_score['invidual_score'] = var_score_1\n",
        "var_score\n",
        "#Độ chính xác khi cho duy nhất một biến vào mô hình"
      ],
      "metadata": {
        "colab": {
          "base_uri": "https://localhost:8080/",
          "height": 457
        },
        "id": "JWbWpNy2rE9s",
        "outputId": "03270d4b-f455-4493-c793-1693062de2a7"
      },
      "execution_count": null,
      "outputs": [
        {
          "output_type": "execute_result",
          "data": {
            "text/plain": [
              "          corr_score  invidual_score\n",
              "age         0.222156        0.300000\n",
              "sex         0.226797        0.383333\n",
              "cp          0.404248        0.533333\n",
              "trestbps    0.159620        0.300000\n",
              "fbs         0.049040        0.033333\n",
              "restecg     0.184136        0.266667\n",
              "thalach    -0.420639        0.400000\n",
              "exang       0.391613        0.550000\n",
              "oldpeak     0.501461        0.366667\n",
              "slope       0.374689        0.350000\n",
              "ca          0.521178        0.450000\n",
              "thal        0.513377        0.450000\n",
              "chol        0.066448        0.266667"
            ],
            "text/html": [
              "\n",
              "  <div id=\"df-b936c64a-64c1-4938-9b1d-2281d317f450\">\n",
              "    <div class=\"colab-df-container\">\n",
              "      <div>\n",
              "<style scoped>\n",
              "    .dataframe tbody tr th:only-of-type {\n",
              "        vertical-align: middle;\n",
              "    }\n",
              "\n",
              "    .dataframe tbody tr th {\n",
              "        vertical-align: top;\n",
              "    }\n",
              "\n",
              "    .dataframe thead th {\n",
              "        text-align: right;\n",
              "    }\n",
              "</style>\n",
              "<table border=\"1\" class=\"dataframe\">\n",
              "  <thead>\n",
              "    <tr style=\"text-align: right;\">\n",
              "      <th></th>\n",
              "      <th>corr_score</th>\n",
              "      <th>invidual_score</th>\n",
              "    </tr>\n",
              "  </thead>\n",
              "  <tbody>\n",
              "    <tr>\n",
              "      <th>age</th>\n",
              "      <td>0.222156</td>\n",
              "      <td>0.300000</td>\n",
              "    </tr>\n",
              "    <tr>\n",
              "      <th>sex</th>\n",
              "      <td>0.226797</td>\n",
              "      <td>0.383333</td>\n",
              "    </tr>\n",
              "    <tr>\n",
              "      <th>cp</th>\n",
              "      <td>0.404248</td>\n",
              "      <td>0.533333</td>\n",
              "    </tr>\n",
              "    <tr>\n",
              "      <th>trestbps</th>\n",
              "      <td>0.159620</td>\n",
              "      <td>0.300000</td>\n",
              "    </tr>\n",
              "    <tr>\n",
              "      <th>fbs</th>\n",
              "      <td>0.049040</td>\n",
              "      <td>0.033333</td>\n",
              "    </tr>\n",
              "    <tr>\n",
              "      <th>restecg</th>\n",
              "      <td>0.184136</td>\n",
              "      <td>0.266667</td>\n",
              "    </tr>\n",
              "    <tr>\n",
              "      <th>thalach</th>\n",
              "      <td>-0.420639</td>\n",
              "      <td>0.400000</td>\n",
              "    </tr>\n",
              "    <tr>\n",
              "      <th>exang</th>\n",
              "      <td>0.391613</td>\n",
              "      <td>0.550000</td>\n",
              "    </tr>\n",
              "    <tr>\n",
              "      <th>oldpeak</th>\n",
              "      <td>0.501461</td>\n",
              "      <td>0.366667</td>\n",
              "    </tr>\n",
              "    <tr>\n",
              "      <th>slope</th>\n",
              "      <td>0.374689</td>\n",
              "      <td>0.350000</td>\n",
              "    </tr>\n",
              "    <tr>\n",
              "      <th>ca</th>\n",
              "      <td>0.521178</td>\n",
              "      <td>0.450000</td>\n",
              "    </tr>\n",
              "    <tr>\n",
              "      <th>thal</th>\n",
              "      <td>0.513377</td>\n",
              "      <td>0.450000</td>\n",
              "    </tr>\n",
              "    <tr>\n",
              "      <th>chol</th>\n",
              "      <td>0.066448</td>\n",
              "      <td>0.266667</td>\n",
              "    </tr>\n",
              "  </tbody>\n",
              "</table>\n",
              "</div>\n",
              "      <button class=\"colab-df-convert\" onclick=\"convertToInteractive('df-b936c64a-64c1-4938-9b1d-2281d317f450')\"\n",
              "              title=\"Convert this dataframe to an interactive table.\"\n",
              "              style=\"display:none;\">\n",
              "        \n",
              "  <svg xmlns=\"http://www.w3.org/2000/svg\" height=\"24px\"viewBox=\"0 0 24 24\"\n",
              "       width=\"24px\">\n",
              "    <path d=\"M0 0h24v24H0V0z\" fill=\"none\"/>\n",
              "    <path d=\"M18.56 5.44l.94 2.06.94-2.06 2.06-.94-2.06-.94-.94-2.06-.94 2.06-2.06.94zm-11 1L8.5 8.5l.94-2.06 2.06-.94-2.06-.94L8.5 2.5l-.94 2.06-2.06.94zm10 10l.94 2.06.94-2.06 2.06-.94-2.06-.94-.94-2.06-.94 2.06-2.06.94z\"/><path d=\"M17.41 7.96l-1.37-1.37c-.4-.4-.92-.59-1.43-.59-.52 0-1.04.2-1.43.59L10.3 9.45l-7.72 7.72c-.78.78-.78 2.05 0 2.83L4 21.41c.39.39.9.59 1.41.59.51 0 1.02-.2 1.41-.59l7.78-7.78 2.81-2.81c.8-.78.8-2.07 0-2.86zM5.41 20L4 18.59l7.72-7.72 1.47 1.35L5.41 20z\"/>\n",
              "  </svg>\n",
              "      </button>\n",
              "      \n",
              "  <style>\n",
              "    .colab-df-container {\n",
              "      display:flex;\n",
              "      flex-wrap:wrap;\n",
              "      gap: 12px;\n",
              "    }\n",
              "\n",
              "    .colab-df-convert {\n",
              "      background-color: #E8F0FE;\n",
              "      border: none;\n",
              "      border-radius: 50%;\n",
              "      cursor: pointer;\n",
              "      display: none;\n",
              "      fill: #1967D2;\n",
              "      height: 32px;\n",
              "      padding: 0 0 0 0;\n",
              "      width: 32px;\n",
              "    }\n",
              "\n",
              "    .colab-df-convert:hover {\n",
              "      background-color: #E2EBFA;\n",
              "      box-shadow: 0px 1px 2px rgba(60, 64, 67, 0.3), 0px 1px 3px 1px rgba(60, 64, 67, 0.15);\n",
              "      fill: #174EA6;\n",
              "    }\n",
              "\n",
              "    [theme=dark] .colab-df-convert {\n",
              "      background-color: #3B4455;\n",
              "      fill: #D2E3FC;\n",
              "    }\n",
              "\n",
              "    [theme=dark] .colab-df-convert:hover {\n",
              "      background-color: #434B5C;\n",
              "      box-shadow: 0px 1px 3px 1px rgba(0, 0, 0, 0.15);\n",
              "      filter: drop-shadow(0px 1px 2px rgba(0, 0, 0, 0.3));\n",
              "      fill: #FFFFFF;\n",
              "    }\n",
              "  </style>\n",
              "\n",
              "      <script>\n",
              "        const buttonEl =\n",
              "          document.querySelector('#df-b936c64a-64c1-4938-9b1d-2281d317f450 button.colab-df-convert');\n",
              "        buttonEl.style.display =\n",
              "          google.colab.kernel.accessAllowed ? 'block' : 'none';\n",
              "\n",
              "        async function convertToInteractive(key) {\n",
              "          const element = document.querySelector('#df-b936c64a-64c1-4938-9b1d-2281d317f450');\n",
              "          const dataTable =\n",
              "            await google.colab.kernel.invokeFunction('convertToInteractive',\n",
              "                                                     [key], {});\n",
              "          if (!dataTable) return;\n",
              "\n",
              "          const docLinkHtml = 'Like what you see? Visit the ' +\n",
              "            '<a target=\"_blank\" href=https://colab.research.google.com/notebooks/data_table.ipynb>data table notebook</a>'\n",
              "            + ' to learn more about interactive tables.';\n",
              "          element.innerHTML = '';\n",
              "          dataTable['output_type'] = 'display_data';\n",
              "          await google.colab.output.renderOutput(dataTable, element);\n",
              "          const docLink = document.createElement('div');\n",
              "          docLink.innerHTML = docLinkHtml;\n",
              "          element.appendChild(docLink);\n",
              "        }\n",
              "      </script>\n",
              "    </div>\n",
              "  </div>\n",
              "  "
            ]
          },
          "metadata": {},
          "execution_count": 156
        }
      ]
    },
    {
      "cell_type": "code",
      "source": [
        "from sklearn.naive_bayes import GaussianNB\n",
        "var_score_2 = []\n",
        "for i in (X_train.columns):\n",
        "  model_drop = GaussianNB().fit(X_train.drop([i],axis =1),y_train)\n",
        "  model = GaussianNB().fit(X_train,y_train)\n",
        "  #print(model.score(X_test,y_test) - model_drop.score(X_test.drop([i],axis =1),y_test))\n",
        "  var_score_2.append(model.score(X_test,y_test) - model_drop.score(X_test.drop([i],axis =1),y_test))\n",
        "var_score['drop_score'] = var_score_2\n",
        "var_score\n",
        "#Thử độ chính xác của mô hình khi loại một biến để xem độ chính xác thay đổi như thế nào"
      ],
      "metadata": {
        "colab": {
          "base_uri": "https://localhost:8080/",
          "height": 457
        },
        "id": "Ort6gRk61ShN",
        "outputId": "7201e541-c2fa-4e2a-d1c4-7b7db3b1b2ad"
      },
      "execution_count": null,
      "outputs": [
        {
          "output_type": "execute_result",
          "data": {
            "text/plain": [
              "          corr_score  invidual_score  drop_score\n",
              "age         0.222156        0.300000    0.033333\n",
              "sex         0.226797        0.383333    0.083333\n",
              "cp          0.404248        0.533333    0.000000\n",
              "trestbps    0.159620        0.300000   -0.016667\n",
              "fbs         0.049040        0.033333    0.016667\n",
              "restecg     0.184136        0.266667    0.000000\n",
              "thalach    -0.420639        0.400000   -0.033333\n",
              "exang       0.391613        0.550000    0.000000\n",
              "oldpeak     0.501461        0.366667    0.016667\n",
              "slope       0.374689        0.350000   -0.016667\n",
              "ca          0.521178        0.450000    0.016667\n",
              "thal        0.513377        0.450000    0.150000\n",
              "chol        0.066448        0.266667    0.050000"
            ],
            "text/html": [
              "\n",
              "  <div id=\"df-297ae9b6-b3e2-4f33-bc32-07e88aa57e1d\">\n",
              "    <div class=\"colab-df-container\">\n",
              "      <div>\n",
              "<style scoped>\n",
              "    .dataframe tbody tr th:only-of-type {\n",
              "        vertical-align: middle;\n",
              "    }\n",
              "\n",
              "    .dataframe tbody tr th {\n",
              "        vertical-align: top;\n",
              "    }\n",
              "\n",
              "    .dataframe thead th {\n",
              "        text-align: right;\n",
              "    }\n",
              "</style>\n",
              "<table border=\"1\" class=\"dataframe\">\n",
              "  <thead>\n",
              "    <tr style=\"text-align: right;\">\n",
              "      <th></th>\n",
              "      <th>corr_score</th>\n",
              "      <th>invidual_score</th>\n",
              "      <th>drop_score</th>\n",
              "    </tr>\n",
              "  </thead>\n",
              "  <tbody>\n",
              "    <tr>\n",
              "      <th>age</th>\n",
              "      <td>0.222156</td>\n",
              "      <td>0.300000</td>\n",
              "      <td>0.033333</td>\n",
              "    </tr>\n",
              "    <tr>\n",
              "      <th>sex</th>\n",
              "      <td>0.226797</td>\n",
              "      <td>0.383333</td>\n",
              "      <td>0.083333</td>\n",
              "    </tr>\n",
              "    <tr>\n",
              "      <th>cp</th>\n",
              "      <td>0.404248</td>\n",
              "      <td>0.533333</td>\n",
              "      <td>0.000000</td>\n",
              "    </tr>\n",
              "    <tr>\n",
              "      <th>trestbps</th>\n",
              "      <td>0.159620</td>\n",
              "      <td>0.300000</td>\n",
              "      <td>-0.016667</td>\n",
              "    </tr>\n",
              "    <tr>\n",
              "      <th>fbs</th>\n",
              "      <td>0.049040</td>\n",
              "      <td>0.033333</td>\n",
              "      <td>0.016667</td>\n",
              "    </tr>\n",
              "    <tr>\n",
              "      <th>restecg</th>\n",
              "      <td>0.184136</td>\n",
              "      <td>0.266667</td>\n",
              "      <td>0.000000</td>\n",
              "    </tr>\n",
              "    <tr>\n",
              "      <th>thalach</th>\n",
              "      <td>-0.420639</td>\n",
              "      <td>0.400000</td>\n",
              "      <td>-0.033333</td>\n",
              "    </tr>\n",
              "    <tr>\n",
              "      <th>exang</th>\n",
              "      <td>0.391613</td>\n",
              "      <td>0.550000</td>\n",
              "      <td>0.000000</td>\n",
              "    </tr>\n",
              "    <tr>\n",
              "      <th>oldpeak</th>\n",
              "      <td>0.501461</td>\n",
              "      <td>0.366667</td>\n",
              "      <td>0.016667</td>\n",
              "    </tr>\n",
              "    <tr>\n",
              "      <th>slope</th>\n",
              "      <td>0.374689</td>\n",
              "      <td>0.350000</td>\n",
              "      <td>-0.016667</td>\n",
              "    </tr>\n",
              "    <tr>\n",
              "      <th>ca</th>\n",
              "      <td>0.521178</td>\n",
              "      <td>0.450000</td>\n",
              "      <td>0.016667</td>\n",
              "    </tr>\n",
              "    <tr>\n",
              "      <th>thal</th>\n",
              "      <td>0.513377</td>\n",
              "      <td>0.450000</td>\n",
              "      <td>0.150000</td>\n",
              "    </tr>\n",
              "    <tr>\n",
              "      <th>chol</th>\n",
              "      <td>0.066448</td>\n",
              "      <td>0.266667</td>\n",
              "      <td>0.050000</td>\n",
              "    </tr>\n",
              "  </tbody>\n",
              "</table>\n",
              "</div>\n",
              "      <button class=\"colab-df-convert\" onclick=\"convertToInteractive('df-297ae9b6-b3e2-4f33-bc32-07e88aa57e1d')\"\n",
              "              title=\"Convert this dataframe to an interactive table.\"\n",
              "              style=\"display:none;\">\n",
              "        \n",
              "  <svg xmlns=\"http://www.w3.org/2000/svg\" height=\"24px\"viewBox=\"0 0 24 24\"\n",
              "       width=\"24px\">\n",
              "    <path d=\"M0 0h24v24H0V0z\" fill=\"none\"/>\n",
              "    <path d=\"M18.56 5.44l.94 2.06.94-2.06 2.06-.94-2.06-.94-.94-2.06-.94 2.06-2.06.94zm-11 1L8.5 8.5l.94-2.06 2.06-.94-2.06-.94L8.5 2.5l-.94 2.06-2.06.94zm10 10l.94 2.06.94-2.06 2.06-.94-2.06-.94-.94-2.06-.94 2.06-2.06.94z\"/><path d=\"M17.41 7.96l-1.37-1.37c-.4-.4-.92-.59-1.43-.59-.52 0-1.04.2-1.43.59L10.3 9.45l-7.72 7.72c-.78.78-.78 2.05 0 2.83L4 21.41c.39.39.9.59 1.41.59.51 0 1.02-.2 1.41-.59l7.78-7.78 2.81-2.81c.8-.78.8-2.07 0-2.86zM5.41 20L4 18.59l7.72-7.72 1.47 1.35L5.41 20z\"/>\n",
              "  </svg>\n",
              "      </button>\n",
              "      \n",
              "  <style>\n",
              "    .colab-df-container {\n",
              "      display:flex;\n",
              "      flex-wrap:wrap;\n",
              "      gap: 12px;\n",
              "    }\n",
              "\n",
              "    .colab-df-convert {\n",
              "      background-color: #E8F0FE;\n",
              "      border: none;\n",
              "      border-radius: 50%;\n",
              "      cursor: pointer;\n",
              "      display: none;\n",
              "      fill: #1967D2;\n",
              "      height: 32px;\n",
              "      padding: 0 0 0 0;\n",
              "      width: 32px;\n",
              "    }\n",
              "\n",
              "    .colab-df-convert:hover {\n",
              "      background-color: #E2EBFA;\n",
              "      box-shadow: 0px 1px 2px rgba(60, 64, 67, 0.3), 0px 1px 3px 1px rgba(60, 64, 67, 0.15);\n",
              "      fill: #174EA6;\n",
              "    }\n",
              "\n",
              "    [theme=dark] .colab-df-convert {\n",
              "      background-color: #3B4455;\n",
              "      fill: #D2E3FC;\n",
              "    }\n",
              "\n",
              "    [theme=dark] .colab-df-convert:hover {\n",
              "      background-color: #434B5C;\n",
              "      box-shadow: 0px 1px 3px 1px rgba(0, 0, 0, 0.15);\n",
              "      filter: drop-shadow(0px 1px 2px rgba(0, 0, 0, 0.3));\n",
              "      fill: #FFFFFF;\n",
              "    }\n",
              "  </style>\n",
              "\n",
              "      <script>\n",
              "        const buttonEl =\n",
              "          document.querySelector('#df-297ae9b6-b3e2-4f33-bc32-07e88aa57e1d button.colab-df-convert');\n",
              "        buttonEl.style.display =\n",
              "          google.colab.kernel.accessAllowed ? 'block' : 'none';\n",
              "\n",
              "        async function convertToInteractive(key) {\n",
              "          const element = document.querySelector('#df-297ae9b6-b3e2-4f33-bc32-07e88aa57e1d');\n",
              "          const dataTable =\n",
              "            await google.colab.kernel.invokeFunction('convertToInteractive',\n",
              "                                                     [key], {});\n",
              "          if (!dataTable) return;\n",
              "\n",
              "          const docLinkHtml = 'Like what you see? Visit the ' +\n",
              "            '<a target=\"_blank\" href=https://colab.research.google.com/notebooks/data_table.ipynb>data table notebook</a>'\n",
              "            + ' to learn more about interactive tables.';\n",
              "          element.innerHTML = '';\n",
              "          dataTable['output_type'] = 'display_data';\n",
              "          await google.colab.output.renderOutput(dataTable, element);\n",
              "          const docLink = document.createElement('div');\n",
              "          docLink.innerHTML = docLinkHtml;\n",
              "          element.appendChild(docLink);\n",
              "        }\n",
              "      </script>\n",
              "    </div>\n",
              "  </div>\n",
              "  "
            ]
          },
          "metadata": {},
          "execution_count": 157
        }
      ]
    },
    {
      "cell_type": "markdown",
      "source": [
        "Qua nhiều lần chạy lại với những tập X_train khác nhau thì drop_score thay đổi, chứng tỏ chỉ số này không phù hợp để làm tham khảo cho việc lựa chọn biến trong data này."
      ],
      "metadata": {
        "id": "99F2I5aPe2Tq"
      }
    },
    {
      "cell_type": "code",
      "source": [
        "var_score['Total_score'] = var_score.mean(axis=1)\n",
        "var_score"
      ],
      "metadata": {
        "colab": {
          "base_uri": "https://localhost:8080/",
          "height": 457
        },
        "id": "FIcu9GuQPtYz",
        "outputId": "a07b9e9c-34d9-4466-92bb-a5b015962f48"
      },
      "execution_count": null,
      "outputs": [
        {
          "output_type": "execute_result",
          "data": {
            "text/plain": [
              "          corr_score  invidual_score  drop_score  Total_score\n",
              "age         0.222156        0.300000    0.033333     0.185163\n",
              "sex         0.226797        0.383333    0.083333     0.231155\n",
              "cp          0.404248        0.533333    0.000000     0.312527\n",
              "trestbps    0.159620        0.300000   -0.016667     0.147651\n",
              "fbs         0.049040        0.033333    0.016667     0.033013\n",
              "restecg     0.184136        0.266667    0.000000     0.150268\n",
              "thalach    -0.420639        0.400000   -0.033333    -0.017991\n",
              "exang       0.391613        0.550000    0.000000     0.313871\n",
              "oldpeak     0.501461        0.366667    0.016667     0.294931\n",
              "slope       0.374689        0.350000   -0.016667     0.236008\n",
              "ca          0.521178        0.450000    0.016667     0.329282\n",
              "thal        0.513377        0.450000    0.150000     0.371126\n",
              "chol        0.066448        0.266667    0.050000     0.127705"
            ],
            "text/html": [
              "\n",
              "  <div id=\"df-edb67d29-dc6a-4235-8cba-8fc61e2a24ed\">\n",
              "    <div class=\"colab-df-container\">\n",
              "      <div>\n",
              "<style scoped>\n",
              "    .dataframe tbody tr th:only-of-type {\n",
              "        vertical-align: middle;\n",
              "    }\n",
              "\n",
              "    .dataframe tbody tr th {\n",
              "        vertical-align: top;\n",
              "    }\n",
              "\n",
              "    .dataframe thead th {\n",
              "        text-align: right;\n",
              "    }\n",
              "</style>\n",
              "<table border=\"1\" class=\"dataframe\">\n",
              "  <thead>\n",
              "    <tr style=\"text-align: right;\">\n",
              "      <th></th>\n",
              "      <th>corr_score</th>\n",
              "      <th>invidual_score</th>\n",
              "      <th>drop_score</th>\n",
              "      <th>Total_score</th>\n",
              "    </tr>\n",
              "  </thead>\n",
              "  <tbody>\n",
              "    <tr>\n",
              "      <th>age</th>\n",
              "      <td>0.222156</td>\n",
              "      <td>0.300000</td>\n",
              "      <td>0.033333</td>\n",
              "      <td>0.185163</td>\n",
              "    </tr>\n",
              "    <tr>\n",
              "      <th>sex</th>\n",
              "      <td>0.226797</td>\n",
              "      <td>0.383333</td>\n",
              "      <td>0.083333</td>\n",
              "      <td>0.231155</td>\n",
              "    </tr>\n",
              "    <tr>\n",
              "      <th>cp</th>\n",
              "      <td>0.404248</td>\n",
              "      <td>0.533333</td>\n",
              "      <td>0.000000</td>\n",
              "      <td>0.312527</td>\n",
              "    </tr>\n",
              "    <tr>\n",
              "      <th>trestbps</th>\n",
              "      <td>0.159620</td>\n",
              "      <td>0.300000</td>\n",
              "      <td>-0.016667</td>\n",
              "      <td>0.147651</td>\n",
              "    </tr>\n",
              "    <tr>\n",
              "      <th>fbs</th>\n",
              "      <td>0.049040</td>\n",
              "      <td>0.033333</td>\n",
              "      <td>0.016667</td>\n",
              "      <td>0.033013</td>\n",
              "    </tr>\n",
              "    <tr>\n",
              "      <th>restecg</th>\n",
              "      <td>0.184136</td>\n",
              "      <td>0.266667</td>\n",
              "      <td>0.000000</td>\n",
              "      <td>0.150268</td>\n",
              "    </tr>\n",
              "    <tr>\n",
              "      <th>thalach</th>\n",
              "      <td>-0.420639</td>\n",
              "      <td>0.400000</td>\n",
              "      <td>-0.033333</td>\n",
              "      <td>-0.017991</td>\n",
              "    </tr>\n",
              "    <tr>\n",
              "      <th>exang</th>\n",
              "      <td>0.391613</td>\n",
              "      <td>0.550000</td>\n",
              "      <td>0.000000</td>\n",
              "      <td>0.313871</td>\n",
              "    </tr>\n",
              "    <tr>\n",
              "      <th>oldpeak</th>\n",
              "      <td>0.501461</td>\n",
              "      <td>0.366667</td>\n",
              "      <td>0.016667</td>\n",
              "      <td>0.294931</td>\n",
              "    </tr>\n",
              "    <tr>\n",
              "      <th>slope</th>\n",
              "      <td>0.374689</td>\n",
              "      <td>0.350000</td>\n",
              "      <td>-0.016667</td>\n",
              "      <td>0.236008</td>\n",
              "    </tr>\n",
              "    <tr>\n",
              "      <th>ca</th>\n",
              "      <td>0.521178</td>\n",
              "      <td>0.450000</td>\n",
              "      <td>0.016667</td>\n",
              "      <td>0.329282</td>\n",
              "    </tr>\n",
              "    <tr>\n",
              "      <th>thal</th>\n",
              "      <td>0.513377</td>\n",
              "      <td>0.450000</td>\n",
              "      <td>0.150000</td>\n",
              "      <td>0.371126</td>\n",
              "    </tr>\n",
              "    <tr>\n",
              "      <th>chol</th>\n",
              "      <td>0.066448</td>\n",
              "      <td>0.266667</td>\n",
              "      <td>0.050000</td>\n",
              "      <td>0.127705</td>\n",
              "    </tr>\n",
              "  </tbody>\n",
              "</table>\n",
              "</div>\n",
              "      <button class=\"colab-df-convert\" onclick=\"convertToInteractive('df-edb67d29-dc6a-4235-8cba-8fc61e2a24ed')\"\n",
              "              title=\"Convert this dataframe to an interactive table.\"\n",
              "              style=\"display:none;\">\n",
              "        \n",
              "  <svg xmlns=\"http://www.w3.org/2000/svg\" height=\"24px\"viewBox=\"0 0 24 24\"\n",
              "       width=\"24px\">\n",
              "    <path d=\"M0 0h24v24H0V0z\" fill=\"none\"/>\n",
              "    <path d=\"M18.56 5.44l.94 2.06.94-2.06 2.06-.94-2.06-.94-.94-2.06-.94 2.06-2.06.94zm-11 1L8.5 8.5l.94-2.06 2.06-.94-2.06-.94L8.5 2.5l-.94 2.06-2.06.94zm10 10l.94 2.06.94-2.06 2.06-.94-2.06-.94-.94-2.06-.94 2.06-2.06.94z\"/><path d=\"M17.41 7.96l-1.37-1.37c-.4-.4-.92-.59-1.43-.59-.52 0-1.04.2-1.43.59L10.3 9.45l-7.72 7.72c-.78.78-.78 2.05 0 2.83L4 21.41c.39.39.9.59 1.41.59.51 0 1.02-.2 1.41-.59l7.78-7.78 2.81-2.81c.8-.78.8-2.07 0-2.86zM5.41 20L4 18.59l7.72-7.72 1.47 1.35L5.41 20z\"/>\n",
              "  </svg>\n",
              "      </button>\n",
              "      \n",
              "  <style>\n",
              "    .colab-df-container {\n",
              "      display:flex;\n",
              "      flex-wrap:wrap;\n",
              "      gap: 12px;\n",
              "    }\n",
              "\n",
              "    .colab-df-convert {\n",
              "      background-color: #E8F0FE;\n",
              "      border: none;\n",
              "      border-radius: 50%;\n",
              "      cursor: pointer;\n",
              "      display: none;\n",
              "      fill: #1967D2;\n",
              "      height: 32px;\n",
              "      padding: 0 0 0 0;\n",
              "      width: 32px;\n",
              "    }\n",
              "\n",
              "    .colab-df-convert:hover {\n",
              "      background-color: #E2EBFA;\n",
              "      box-shadow: 0px 1px 2px rgba(60, 64, 67, 0.3), 0px 1px 3px 1px rgba(60, 64, 67, 0.15);\n",
              "      fill: #174EA6;\n",
              "    }\n",
              "\n",
              "    [theme=dark] .colab-df-convert {\n",
              "      background-color: #3B4455;\n",
              "      fill: #D2E3FC;\n",
              "    }\n",
              "\n",
              "    [theme=dark] .colab-df-convert:hover {\n",
              "      background-color: #434B5C;\n",
              "      box-shadow: 0px 1px 3px 1px rgba(0, 0, 0, 0.15);\n",
              "      filter: drop-shadow(0px 1px 2px rgba(0, 0, 0, 0.3));\n",
              "      fill: #FFFFFF;\n",
              "    }\n",
              "  </style>\n",
              "\n",
              "      <script>\n",
              "        const buttonEl =\n",
              "          document.querySelector('#df-edb67d29-dc6a-4235-8cba-8fc61e2a24ed button.colab-df-convert');\n",
              "        buttonEl.style.display =\n",
              "          google.colab.kernel.accessAllowed ? 'block' : 'none';\n",
              "\n",
              "        async function convertToInteractive(key) {\n",
              "          const element = document.querySelector('#df-edb67d29-dc6a-4235-8cba-8fc61e2a24ed');\n",
              "          const dataTable =\n",
              "            await google.colab.kernel.invokeFunction('convertToInteractive',\n",
              "                                                     [key], {});\n",
              "          if (!dataTable) return;\n",
              "\n",
              "          const docLinkHtml = 'Like what you see? Visit the ' +\n",
              "            '<a target=\"_blank\" href=https://colab.research.google.com/notebooks/data_table.ipynb>data table notebook</a>'\n",
              "            + ' to learn more about interactive tables.';\n",
              "          element.innerHTML = '';\n",
              "          dataTable['output_type'] = 'display_data';\n",
              "          await google.colab.output.renderOutput(dataTable, element);\n",
              "          const docLink = document.createElement('div');\n",
              "          docLink.innerHTML = docLinkHtml;\n",
              "          element.appendChild(docLink);\n",
              "        }\n",
              "      </script>\n",
              "    </div>\n",
              "  </div>\n",
              "  "
            ]
          },
          "metadata": {},
          "execution_count": 158
        }
      ]
    },
    {
      "cell_type": "markdown",
      "source": [
        "```\n",
        "Sau khi chạy thử nghiệm khoảng 20 lần(tập train thay đổi) nhận thấy rằng biến 'fbs' fast blood sugar:\n",
        "1. gây sai số tới mô hình\n",
        "2. tỉ số tương quan không cao.\n",
        "3. độ chính xác khi cho vào mô hình một mình rất thấp. Do đó quyết định loại\n",
        "biến 'fbs' ra khỏi mô hình để đỡ phức tạp và tăng độ chính xác cho mô hình.\n",
        "```\n"
      ],
      "metadata": {
        "id": "P6Cl6Aj6c1sV"
      }
    },
    {
      "cell_type": "code",
      "source": [
        "X_train = X_train.drop(['fbs'],axis = 1)\n",
        "X_test = X_test.drop(['fbs'], axis = 1)"
      ],
      "metadata": {
        "id": "4FTcq4NNc1dl"
      },
      "execution_count": null,
      "outputs": []
    },
    {
      "cell_type": "markdown",
      "source": [
        "###III. BƯỚC CHỌN MÔ HÌNH MACHINE LEARNING:\n",
        "1. Mô hình logistic regression\n",
        "2. Mô hình Naive-Bayes Classification\n",
        "3. Mô hình Decision Tree.\n",
        "4. Mô hình Random Forest.\n",
        "5. Mô hình KNN\n",
        "6. Mô hình SVM - SVC\n",
        "\n",
        "Với các mô hình 3,4,5 ta tiến hành run all code 20 lần để xem xét các parameters\n",
        "phù hợp với mô hình"
      ],
      "metadata": {
        "id": "93gIoGKseDGT"
      }
    },
    {
      "cell_type": "markdown",
      "source": [
        "####1.Mô hình Logistic Regression\n",
        "---"
      ],
      "metadata": {
        "id": "RkHLCLt3fhYj"
      }
    },
    {
      "cell_type": "code",
      "source": [
        "from sklearn.linear_model import LogisticRegression\n",
        "model_lr = LogisticRegression().fit(X_train,y_train)\n",
        "print(classification_report(y_test, model_lr.predict(X_test)))"
      ],
      "metadata": {
        "colab": {
          "base_uri": "https://localhost:8080/"
        },
        "id": "Cmy2Ro4BflrP",
        "outputId": "ad06d20b-293c-47d2-ec46-962ad5795611"
      },
      "execution_count": null,
      "outputs": [
        {
          "output_type": "stream",
          "name": "stdout",
          "text": [
            "              precision    recall  f1-score   support\n",
            "\n",
            "           0       0.88      0.77      0.82        30\n",
            "           1       0.20      0.20      0.20        10\n",
            "           2       0.20      0.09      0.13        11\n",
            "           3       0.20      0.12      0.15         8\n",
            "           4       0.07      1.00      0.13         1\n",
            "\n",
            "    accuracy                           0.47        60\n",
            "   macro avg       0.31      0.44      0.29        60\n",
            "weighted avg       0.54      0.47      0.49        60\n",
            "\n"
          ]
        },
        {
          "output_type": "stream",
          "name": "stderr",
          "text": [
            "/usr/local/lib/python3.10/dist-packages/sklearn/linear_model/_logistic.py:458: ConvergenceWarning: lbfgs failed to converge (status=1):\n",
            "STOP: TOTAL NO. of ITERATIONS REACHED LIMIT.\n",
            "\n",
            "Increase the number of iterations (max_iter) or scale the data as shown in:\n",
            "    https://scikit-learn.org/stable/modules/preprocessing.html\n",
            "Please also refer to the documentation for alternative solver options:\n",
            "    https://scikit-learn.org/stable/modules/linear_model.html#logistic-regression\n",
            "  n_iter_i = _check_optimize_result(\n"
          ]
        }
      ]
    },
    {
      "cell_type": "markdown",
      "source": [
        "####2.Mô hình Naive-Bayes\n",
        "---"
      ],
      "metadata": {
        "id": "9KhAzAPi076s"
      }
    },
    {
      "cell_type": "code",
      "source": [
        "from sklearn.naive_bayes import GaussianNB\n",
        "model_GNB = GaussianNB().fit(X_train,y_train)\n",
        "print(classification_report(y_test, model_GNB.predict(X_test)))"
      ],
      "metadata": {
        "colab": {
          "base_uri": "https://localhost:8080/"
        },
        "id": "iN45X6GG04NZ",
        "outputId": "25f8fa84-75b2-4c38-cb26-1df4a1ebc615"
      },
      "execution_count": null,
      "outputs": [
        {
          "output_type": "stream",
          "name": "stdout",
          "text": [
            "              precision    recall  f1-score   support\n",
            "\n",
            "           0       0.85      0.73      0.79        30\n",
            "           1       0.23      0.30      0.26        10\n",
            "           2       0.00      0.00      0.00        11\n",
            "           3       0.33      0.25      0.29         8\n",
            "           4       0.09      1.00      0.17         1\n",
            "\n",
            "    accuracy                           0.47        60\n",
            "   macro avg       0.30      0.46      0.30        60\n",
            "weighted avg       0.51      0.47      0.48        60\n",
            "\n"
          ]
        }
      ]
    },
    {
      "cell_type": "code",
      "source": [
        "from sklearn.naive_bayes import BernoulliNB\n",
        "model_BNB = BernoulliNB().fit(X_train,y_train)\n",
        "print(classification_report(y_test, model_BNB.predict(X_test)))"
      ],
      "metadata": {
        "colab": {
          "base_uri": "https://localhost:8080/"
        },
        "id": "-M41QiubXvpJ",
        "outputId": "a49a340f-36ee-4127-a87d-118a557e9181"
      },
      "execution_count": null,
      "outputs": [
        {
          "output_type": "stream",
          "name": "stdout",
          "text": [
            "              precision    recall  f1-score   support\n",
            "\n",
            "           0       0.74      0.47      0.57        30\n",
            "           1       0.08      0.10      0.09        10\n",
            "           2       0.20      0.09      0.13        11\n",
            "           3       0.15      0.25      0.19         8\n",
            "           4       0.09      1.00      0.17         1\n",
            "\n",
            "    accuracy                           0.32        60\n",
            "   macro avg       0.25      0.38      0.23        60\n",
            "weighted avg       0.44      0.32      0.35        60\n",
            "\n"
          ]
        }
      ]
    },
    {
      "cell_type": "markdown",
      "source": [
        "Chọn mô hình GaussianNB cho độ chính xác tốt hơn"
      ],
      "metadata": {
        "id": "i42faVqXy9rh"
      }
    },
    {
      "cell_type": "markdown",
      "source": [
        "#### 3.Mô hình Decision Tree:\n",
        "---"
      ],
      "metadata": {
        "id": "rhJJNWZAhMJH"
      }
    },
    {
      "cell_type": "markdown",
      "source": [
        "Tạo một file csv 'dt_score' để lưu các độ chính xác khi thay đổi max_depth với các tập giá trị khác nhau cho mỗi lần chạy lại chương trình"
      ],
      "metadata": {
        "id": "osjk-6tWdEQC"
      }
    },
    {
      "cell_type": "code",
      "source": [
        "from sklearn.tree import DecisionTreeClassifier\n",
        "pd.DataFrame(list(range(1,15))).to_csv('dt_score.csv',index = False) #Chạy 1 lần\n",
        "df_score = pd.read_csv('dt_score.csv')\n",
        "list_score = []\n",
        "for i in range (1,15):\n",
        "  model_dt = DecisionTreeClassifier(max_depth = i).fit(X_train,y_train)\n",
        "  list_score.append(model_dt.score(X_test,y_test))\n",
        "  #print(i, model_dt.score(X_test, y_test))\n",
        "df_score= pd.concat((df_score,pd.DataFrame(list_score)),axis = 1)\n",
        "df_score.to_csv('dt_score.csv',index = False)\n",
        "  #print(classification_report(y_test, model_dt.predict(X_test)))"
      ],
      "metadata": {
        "id": "Dyk0kimuhLPF"
      },
      "execution_count": null,
      "outputs": []
    },
    {
      "cell_type": "code",
      "source": [
        "df_score.iloc[:,1:len(df_score)].mean(axis = 1)"
      ],
      "metadata": {
        "colab": {
          "base_uri": "https://localhost:8080/"
        },
        "id": "YKZ8WTEVjj6a",
        "outputId": "3a7b2698-b63f-4fb2-8d8b-841da52d1a05"
      },
      "execution_count": null,
      "outputs": [
        {
          "output_type": "execute_result",
          "data": {
            "text/plain": [
              "0     0.450000\n",
              "1     0.533333\n",
              "2     0.383333\n",
              "3     0.416667\n",
              "4     0.433333\n",
              "5     0.483333\n",
              "6     0.500000\n",
              "7     0.416667\n",
              "8     0.483333\n",
              "9     0.433333\n",
              "10    0.450000\n",
              "11    0.400000\n",
              "12    0.433333\n",
              "13    0.416667\n",
              "dtype: float64"
            ]
          },
          "metadata": {},
          "execution_count": 164
        }
      ]
    },
    {
      "cell_type": "markdown",
      "source": [
        "Sau khi cho chạy lại mô hình khoảng 20 lần t thấy max_depth = 5 là khoảng giá trị cho độ chính xác tốt nhất."
      ],
      "metadata": {
        "id": "sYUi9_1KYs7T"
      }
    },
    {
      "cell_type": "code",
      "source": [
        "model_dt = DecisionTreeClassifier(max_depth= 5).fit(X_train,y_train)\n",
        "print(model_dt.score(X_test, y_test))"
      ],
      "metadata": {
        "colab": {
          "base_uri": "https://localhost:8080/"
        },
        "id": "OLHmDv4UYsgl",
        "outputId": "945ce736-2987-4bb4-a584-ddec069cba58"
      },
      "execution_count": null,
      "outputs": [
        {
          "output_type": "stream",
          "name": "stdout",
          "text": [
            "0.4166666666666667\n"
          ]
        }
      ]
    },
    {
      "cell_type": "markdown",
      "source": [
        "####4.Mô hình Random Forest:\n",
        "---"
      ],
      "metadata": {
        "id": "YoJgSwo9jcgf"
      }
    },
    {
      "cell_type": "code",
      "source": [
        "from sklearn.ensemble import RandomForestClassifier\n",
        "#Tạo file csv một lần duy nhất ở lần chạy đầu tiên. sau đó đổi thành kiểu ghi chú\n",
        "pd.DataFrame(list(range(1,20))).to_csv('rf_score.csv',index = False) #Chạy 1 lần\n",
        "df_score_rf = pd.read_csv('rf_score.csv')\n",
        "list_score_rf = []\n",
        "for i in range (1,20):\n",
        "  model_rf = RandomForestClassifier(n_estimators = i).fit(X_train,y_train)\n",
        "  list_score_rf.append(model_rf.score(X_test,y_test))\n",
        "  #print(model_rf.score(X_test,y_test))\n",
        "df_score_rf = pd.concat((df_score_rf,pd.DataFrame(list_score_rf)),axis = 1)\n",
        "df_score_rf.to_csv('rf_score.csv',index = False)"
      ],
      "metadata": {
        "id": "C-cCTay0jb-2"
      },
      "execution_count": null,
      "outputs": []
    },
    {
      "cell_type": "code",
      "source": [
        "df_score_rf.iloc[:,1:len(df_score_rf)].mean(axis = 1)"
      ],
      "metadata": {
        "colab": {
          "base_uri": "https://localhost:8080/"
        },
        "id": "qhaxfaEGdXsw",
        "outputId": "04e679db-6b8e-4372-f0d5-9307e5de6f2d"
      },
      "execution_count": null,
      "outputs": [
        {
          "output_type": "execute_result",
          "data": {
            "text/plain": [
              "0     0.400000\n",
              "1     0.466667\n",
              "2     0.600000\n",
              "3     0.500000\n",
              "4     0.416667\n",
              "5     0.450000\n",
              "6     0.500000\n",
              "7     0.483333\n",
              "8     0.466667\n",
              "9     0.466667\n",
              "10    0.450000\n",
              "11    0.516667\n",
              "12    0.483333\n",
              "13    0.483333\n",
              "14    0.483333\n",
              "15    0.516667\n",
              "16    0.583333\n",
              "17    0.516667\n",
              "18    0.483333\n",
              "dtype: float64"
            ]
          },
          "metadata": {},
          "execution_count": 167
        }
      ]
    },
    {
      "cell_type": "markdown",
      "source": [
        "Sau khoảng 20 lần chạy để lấy thông số thì n_estimators = 4 là giá trị tốt nhất:"
      ],
      "metadata": {
        "id": "7Q9iQy2EeNfT"
      }
    },
    {
      "cell_type": "code",
      "source": [
        "model_rf = RandomForestClassifier(n_estimators= 4).fit(X_train, y_train)\n",
        "model_rf.score(X_test,y_test)"
      ],
      "metadata": {
        "colab": {
          "base_uri": "https://localhost:8080/"
        },
        "id": "cdTDn--FeXfY",
        "outputId": "943b6392-49fa-4a21-aaed-49067970c158"
      },
      "execution_count": null,
      "outputs": [
        {
          "output_type": "execute_result",
          "data": {
            "text/plain": [
              "0.5333333333333333"
            ]
          },
          "metadata": {},
          "execution_count": 168
        }
      ]
    },
    {
      "cell_type": "markdown",
      "source": [
        "####5.Mô hình KNN:\n",
        "---\n",
        "\n"
      ],
      "metadata": {
        "id": "A3a_MZHHyqQ8"
      }
    },
    {
      "cell_type": "code",
      "source": [
        "from sklearn.neighbors import KNeighborsClassifier\n",
        "#Tạo file csv một lần duy nhất ở lần chạy đầu tiên. sau đó đổi thành kiểu ghi chú\n",
        "pd.DataFrame(list(range(1,15))).to_csv('knn_score.csv',index = False) #Chạy 1 lần\n",
        "df_score_knn = pd.read_csv('knn_score.csv')\n",
        "list_score_knn = []\n",
        "for i in range (1,15):\n",
        "  model_knn = KNeighborsClassifier(n_neighbors = i).fit(X_train, y_train)\n",
        "  list_score_knn.append(model_knn.score(X_test,y_test))\n",
        "  #print(i,model_knn.score(X_test,y_test))\n",
        "df_score_knn = pd.concat((df_score_knn,pd.DataFrame(list_score_knn)),axis = 1)\n",
        "df_score_knn.to_csv('knn_score.csv',index = False)"
      ],
      "metadata": {
        "id": "N79T8QgTjXeS"
      },
      "execution_count": null,
      "outputs": []
    },
    {
      "cell_type": "code",
      "source": [
        "df_score_knn.iloc[:,1:len(df_score_knn)].mean(axis = 1)"
      ],
      "metadata": {
        "colab": {
          "base_uri": "https://localhost:8080/"
        },
        "id": "wlKiK1TXi3bt",
        "outputId": "123242b9-e02f-4194-9536-bef3acca4296"
      },
      "execution_count": null,
      "outputs": [
        {
          "output_type": "execute_result",
          "data": {
            "text/plain": [
              "0     0.500000\n",
              "1     0.550000\n",
              "2     0.433333\n",
              "3     0.483333\n",
              "4     0.400000\n",
              "5     0.400000\n",
              "6     0.450000\n",
              "7     0.466667\n",
              "8     0.466667\n",
              "9     0.416667\n",
              "10    0.433333\n",
              "11    0.450000\n",
              "12    0.483333\n",
              "13    0.433333\n",
              "dtype: float64"
            ]
          },
          "metadata": {},
          "execution_count": 170
        }
      ]
    },
    {
      "cell_type": "markdown",
      "source": [
        "Qua bảng trên giá trị phù hợp n_neighbors = 2"
      ],
      "metadata": {
        "id": "NZT0y4NP8dk8"
      }
    },
    {
      "cell_type": "code",
      "source": [
        "model_knn = KNeighborsClassifier(n_neighbors = 2).fit(X_train,y_train)"
      ],
      "metadata": {
        "id": "H2dFMCm59uAC"
      },
      "execution_count": null,
      "outputs": []
    },
    {
      "cell_type": "markdown",
      "source": [
        "####6.SVC:\n",
        "---"
      ],
      "metadata": {
        "id": "s6KOByXOi-iX"
      }
    },
    {
      "cell_type": "code",
      "source": [
        "from sklearn import svm\n",
        "from sklearn.model_selection import GridSearchCV\n",
        "\n",
        "parameters={\n",
        "    'C': [0.001, 0.01, 0.1, 1,10],\n",
        "     'gamma' : [0.001, 0.01,0.1, 0.2, 0.3, 1],\n",
        "     'kernel' : ['linear','rbf']#, 'poly', 'rbf', 'sigmoid']\n",
        "}\n",
        "svc = svm.SVC()\n",
        "clf = GridSearchCV(svc, parameters)\n",
        "clf.fit(X_train, y_train)\n",
        "result = clf.best_params_ #dict type"
      ],
      "metadata": {
        "id": "G6R-wcgwjIbZ"
      },
      "execution_count": null,
      "outputs": []
    },
    {
      "cell_type": "code",
      "source": [
        "result = pd.DataFrame(result,index = [0])\n",
        "result"
      ],
      "metadata": {
        "colab": {
          "base_uri": "https://localhost:8080/",
          "height": 81
        },
        "id": "zPr74f28qpFt",
        "outputId": "bfe76c56-9a52-4854-ccfd-b5639c3ed32b"
      },
      "execution_count": null,
      "outputs": [
        {
          "output_type": "execute_result",
          "data": {
            "text/plain": [
              "    C  gamma kernel\n",
              "0  10    0.3    rbf"
            ],
            "text/html": [
              "\n",
              "  <div id=\"df-d0414414-a03c-4b78-8c5e-416ac9b35695\">\n",
              "    <div class=\"colab-df-container\">\n",
              "      <div>\n",
              "<style scoped>\n",
              "    .dataframe tbody tr th:only-of-type {\n",
              "        vertical-align: middle;\n",
              "    }\n",
              "\n",
              "    .dataframe tbody tr th {\n",
              "        vertical-align: top;\n",
              "    }\n",
              "\n",
              "    .dataframe thead th {\n",
              "        text-align: right;\n",
              "    }\n",
              "</style>\n",
              "<table border=\"1\" class=\"dataframe\">\n",
              "  <thead>\n",
              "    <tr style=\"text-align: right;\">\n",
              "      <th></th>\n",
              "      <th>C</th>\n",
              "      <th>gamma</th>\n",
              "      <th>kernel</th>\n",
              "    </tr>\n",
              "  </thead>\n",
              "  <tbody>\n",
              "    <tr>\n",
              "      <th>0</th>\n",
              "      <td>10</td>\n",
              "      <td>0.3</td>\n",
              "      <td>rbf</td>\n",
              "    </tr>\n",
              "  </tbody>\n",
              "</table>\n",
              "</div>\n",
              "      <button class=\"colab-df-convert\" onclick=\"convertToInteractive('df-d0414414-a03c-4b78-8c5e-416ac9b35695')\"\n",
              "              title=\"Convert this dataframe to an interactive table.\"\n",
              "              style=\"display:none;\">\n",
              "        \n",
              "  <svg xmlns=\"http://www.w3.org/2000/svg\" height=\"24px\"viewBox=\"0 0 24 24\"\n",
              "       width=\"24px\">\n",
              "    <path d=\"M0 0h24v24H0V0z\" fill=\"none\"/>\n",
              "    <path d=\"M18.56 5.44l.94 2.06.94-2.06 2.06-.94-2.06-.94-.94-2.06-.94 2.06-2.06.94zm-11 1L8.5 8.5l.94-2.06 2.06-.94-2.06-.94L8.5 2.5l-.94 2.06-2.06.94zm10 10l.94 2.06.94-2.06 2.06-.94-2.06-.94-.94-2.06-.94 2.06-2.06.94z\"/><path d=\"M17.41 7.96l-1.37-1.37c-.4-.4-.92-.59-1.43-.59-.52 0-1.04.2-1.43.59L10.3 9.45l-7.72 7.72c-.78.78-.78 2.05 0 2.83L4 21.41c.39.39.9.59 1.41.59.51 0 1.02-.2 1.41-.59l7.78-7.78 2.81-2.81c.8-.78.8-2.07 0-2.86zM5.41 20L4 18.59l7.72-7.72 1.47 1.35L5.41 20z\"/>\n",
              "  </svg>\n",
              "      </button>\n",
              "      \n",
              "  <style>\n",
              "    .colab-df-container {\n",
              "      display:flex;\n",
              "      flex-wrap:wrap;\n",
              "      gap: 12px;\n",
              "    }\n",
              "\n",
              "    .colab-df-convert {\n",
              "      background-color: #E8F0FE;\n",
              "      border: none;\n",
              "      border-radius: 50%;\n",
              "      cursor: pointer;\n",
              "      display: none;\n",
              "      fill: #1967D2;\n",
              "      height: 32px;\n",
              "      padding: 0 0 0 0;\n",
              "      width: 32px;\n",
              "    }\n",
              "\n",
              "    .colab-df-convert:hover {\n",
              "      background-color: #E2EBFA;\n",
              "      box-shadow: 0px 1px 2px rgba(60, 64, 67, 0.3), 0px 1px 3px 1px rgba(60, 64, 67, 0.15);\n",
              "      fill: #174EA6;\n",
              "    }\n",
              "\n",
              "    [theme=dark] .colab-df-convert {\n",
              "      background-color: #3B4455;\n",
              "      fill: #D2E3FC;\n",
              "    }\n",
              "\n",
              "    [theme=dark] .colab-df-convert:hover {\n",
              "      background-color: #434B5C;\n",
              "      box-shadow: 0px 1px 3px 1px rgba(0, 0, 0, 0.15);\n",
              "      filter: drop-shadow(0px 1px 2px rgba(0, 0, 0, 0.3));\n",
              "      fill: #FFFFFF;\n",
              "    }\n",
              "  </style>\n",
              "\n",
              "      <script>\n",
              "        const buttonEl =\n",
              "          document.querySelector('#df-d0414414-a03c-4b78-8c5e-416ac9b35695 button.colab-df-convert');\n",
              "        buttonEl.style.display =\n",
              "          google.colab.kernel.accessAllowed ? 'block' : 'none';\n",
              "\n",
              "        async function convertToInteractive(key) {\n",
              "          const element = document.querySelector('#df-d0414414-a03c-4b78-8c5e-416ac9b35695');\n",
              "          const dataTable =\n",
              "            await google.colab.kernel.invokeFunction('convertToInteractive',\n",
              "                                                     [key], {});\n",
              "          if (!dataTable) return;\n",
              "\n",
              "          const docLinkHtml = 'Like what you see? Visit the ' +\n",
              "            '<a target=\"_blank\" href=https://colab.research.google.com/notebooks/data_table.ipynb>data table notebook</a>'\n",
              "            + ' to learn more about interactive tables.';\n",
              "          element.innerHTML = '';\n",
              "          dataTable['output_type'] = 'display_data';\n",
              "          await google.colab.output.renderOutput(dataTable, element);\n",
              "          const docLink = document.createElement('div');\n",
              "          docLink.innerHTML = docLinkHtml;\n",
              "          element.appendChild(docLink);\n",
              "        }\n",
              "      </script>\n",
              "    </div>\n",
              "  </div>\n",
              "  "
            ]
          },
          "metadata": {},
          "execution_count": 173
        }
      ]
    },
    {
      "cell_type": "code",
      "source": [
        "from sklearn.svm import SVC\n",
        "model_SVC = SVC(C = float(result.loc[:,'C']),\n",
        "                kernel = result.kernel.iloc[0],\n",
        "                gamma = float(result.gamma))\n",
        "model_SVC = model_SVC.fit(X_train,y_train)\n",
        "model_SVC.score(X_test,y_test)"
      ],
      "metadata": {
        "colab": {
          "base_uri": "https://localhost:8080/"
        },
        "id": "eYFtXJE4pZth",
        "outputId": "75e44796-b996-4916-d726-01aa66b5eec4"
      },
      "execution_count": null,
      "outputs": [
        {
          "output_type": "execute_result",
          "data": {
            "text/plain": [
              "0.5166666666666667"
            ]
          },
          "metadata": {},
          "execution_count": 174
        }
      ]
    },
    {
      "cell_type": "markdown",
      "source": [
        "###IV. Kết luận"
      ],
      "metadata": {
        "id": "IBCkbpZr5L7Y"
      }
    },
    {
      "cell_type": "code",
      "source": [
        "#Model Logistic Regression:\n",
        "lr_score = model_lr.score(X_test,y_test)\n",
        "nb_score = model_GNB.score(X_test,y_test)\n",
        "dt_score = model_dt.score(X_test,y_test)\n",
        "rf_score = model_rf.score(X_test,y_test)\n",
        "knn_score = model_knn.score(X_test,y_test)\n",
        "svc_score = model_SVC.score(X_test,y_test)\n",
        "dict_score = {'Model_name':['Log_Reg','Nai-Bay','Deci_Tree','Ran_Forest','KNN','SVC'],'Score':[lr_score,nb_score,dt_score,rf_score,knn_score,svc_score]}"
      ],
      "metadata": {
        "id": "oo2gLOsc8lPQ"
      },
      "execution_count": null,
      "outputs": []
    },
    {
      "cell_type": "code",
      "source": [
        "fig, ax = plt.subplots(figsize = (8,6))\n",
        "ax.set_facecolor('lightgrey')\n",
        "plt.scatter(dict_score['Model_name'],dict_score['Score'],c = 'red')\n",
        "value = list(dict_score.values())\n",
        "for i in range(len(value[0])):\n",
        "    plt.text(value[0][i], value[1][i]-0.0004 ,round(value[1][i],3), ha='center',va = 'top',c = 'navy',size=10)\n",
        "plt.xlabel('Model Machine Learning')\n",
        "plt.ylabel('Score')\n",
        "plt.title('General Score Each Model')\n",
        "plt.show()"
      ],
      "metadata": {
        "colab": {
          "base_uri": "https://localhost:8080/",
          "height": 564
        },
        "id": "Qz_MwAOv_WhU",
        "outputId": "d0e224d1-2648-4c03-e7c2-cc9ed40e8fca"
      },
      "execution_count": null,
      "outputs": [
        {
          "output_type": "display_data",
          "data": {
            "text/plain": [
              "<Figure size 800x600 with 1 Axes>"
            ],
            "image/png": "[encoded data removed]"
          },
          "metadata": {}
        }
      ]
    },
    {
      "cell_type": "markdown",
      "source": [
        "###Ta chọn model KNN để dự báo cho heart desease sẽ cho độ chính xác chung là tốt nhất"
      ],
      "metadata": {
        "id": "itA5gmfiIawM"
      }
    }
  ]
}